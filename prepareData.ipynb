{
 "cells": [
  {
   "cell_type": "code",
   "execution_count": 1,
   "id": "92c96ed1",
   "metadata": {},
   "outputs": [],
   "source": [
    "import numpy as np\n",
    "import tensorflow as tf\n",
    "import matplotlib.pyplot as plt\n",
    "import cv2\n",
    "import os\n",
    "import sys\n",
    "import mediapipe as mp\n",
    "from tensorflow import keras\n",
    "from tensorflow.keras.models import Sequential\n",
    "from tensorflow.keras import layers\n",
    "from tensorflow.keras.preprocessing import image_dataset_from_directory\n",
    "from tensorflow.keras.preprocessing.image import ImageDataGenerator\n",
    "from tensorflow.keras.preprocessing import image\n",
    "from keras.callbacks import ModelCheckpoint, EarlyStopping"
   ]
  },
  {
   "cell_type": "code",
   "execution_count": 2,
   "id": "e7e70548",
   "metadata": {},
   "outputs": [],
   "source": [
    "t_path = r'F:\\\\FAX\\\\4GOD\\\\SEMESTAR_UNO\\\\Raspoznavanje_uzoraka_i_strojno_ucenje\\\\Projekt\\\\ASL_Dataset\\\\'\n",
    "mp_drawing = mp.solutions.drawing_utils\n",
    "mp_hands = mp.solutions.hands"
   ]
  },
  {
   "cell_type": "code",
   "execution_count": 4,
   "id": "a5cf070c",
   "metadata": {},
   "outputs": [],
   "source": [
    "with mp_hands.Hands(min_detection_confidence=0.5,  static_image_mode=True,) as hands:\n",
    "    os.chdir(t_path + '/Train_new/')\n",
    "    for folderName in os.listdir(t_path + '/Train/'):\n",
    "        count = 0\n",
    "        for image_filename in os.listdir(t_path + '/Train/' + folderName): \n",
    "            image = cv2.flip(cv2.imread(t_path + '/Train/' + folderName + '/' + image_filename), 1)\n",
    "            \n",
    "            results = hands.process(cv2.cvtColor(image, cv2.COLOR_BGR2RGB))\n",
    "            \n",
    "            if results.multi_hand_landmarks:\n",
    "                for num, hand in enumerate(results.multi_hand_landmarks):\n",
    "                    mp_drawing.draw_landmarks(image, hand, mp_hands.HAND_CONNECTIONS)\n",
    "                    \n",
    "            path = t_path + '/Train_new/' + folderName\n",
    "            doesExist = os.path.exists(path)\n",
    "            if not doesExist:\n",
    "                os.makedirs(path)\n",
    "            os.chdir(t_path + '/Train_new/' + folderName)\n",
    "            cv2.imwrite(folderName + str(count) + '.jpg', image)\n",
    "            count = count + 1\n",
    "        os.chdir(t_path + '/Train_new/')"
   ]
  },
  {
   "cell_type": "code",
   "execution_count": null,
   "id": "ccea01e8",
   "metadata": {},
   "outputs": [],
   "source": []
  }
 ],
 "metadata": {
  "kernelspec": {
   "display_name": "Python 3 (ipykernel)",
   "language": "python",
   "name": "python3"
  },
  "language_info": {
   "codemirror_mode": {
    "name": "ipython",
    "version": 3
   },
   "file_extension": ".py",
   "mimetype": "text/x-python",
   "name": "python",
   "nbconvert_exporter": "python",
   "pygments_lexer": "ipython3",
   "version": "3.9.7"
  }
 },
 "nbformat": 4,
 "nbformat_minor": 5
}
