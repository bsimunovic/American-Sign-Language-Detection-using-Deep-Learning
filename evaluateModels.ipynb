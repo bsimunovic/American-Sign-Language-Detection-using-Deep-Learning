{
 "cells": [
  {
   "cell_type": "code",
   "execution_count": 1,
   "id": "16c0a483",
   "metadata": {},
   "outputs": [],
   "source": [
    "import tensorflow as tf\n",
    "import numpy as np\n",
    "from sklearn.metrics import classification_report, confusion_matrix\n",
    "from tensorflow import keras\n",
    "from tensorflow.keras.models import Sequential\n",
    "from tensorflow.keras import layers\n",
    "from tensorflow.keras.preprocessing import image_dataset_from_directory\n",
    "from tensorflow.keras.preprocessing.image import ImageDataGenerator\n",
    "from tensorflow.keras.preprocessing import image\n",
    "from keras.callbacks import ModelCheckpoint, EarlyStopping"
   ]
  },
  {
   "cell_type": "code",
   "execution_count": 7,
   "id": "51a0588a",
   "metadata": {},
   "outputs": [],
   "source": [
    "data_dir_train = 'ASL_Dataset/Train'\n",
    "data_dir_test = 'ASL_Dataset/Test'\n",
    "img_size = 64\n",
    "input_shape = (img_size, img_size, 3)\n",
    "target_size =(img_size,img_size)\n",
    "batch_size = 32\n",
    "num_classes = 36"
   ]
  },
  {
   "cell_type": "code",
   "execution_count": 5,
   "id": "5fd79932",
   "metadata": {},
   "outputs": [],
   "source": [
    "datagen = ImageDataGenerator(\n",
    "        rescale = 1./255,\n",
    "        rotation_range = 40,\n",
    "        width_shift_range = 0.2,\n",
    "        height_shift_range = 0.2,\n",
    "        shear_range = 0.2,\n",
    "        zoom_range = 0.2,\n",
    "        horizontal_flip = True,\n",
    "        fill_mode = 'nearest',\n",
    "        validation_split = 0.2)\n",
    "\n",
    "datagenTest = ImageDataGenerator(\n",
    "        rescale = 1./255,\n",
    "        )"
   ]
  },
  {
   "cell_type": "code",
   "execution_count": 4,
   "id": "561b9104",
   "metadata": {},
   "outputs": [
    {
     "name": "stdout",
     "output_type": "stream",
     "text": [
      "Found 71612 images belonging to 39 classes.\n"
     ]
    }
   ],
   "source": [
    "train_ds = datagen.flow_from_directory(\n",
    "    directory=data_dir_train,\n",
    "    target_size=target_size,\n",
    "    class_mode ='categorical',\n",
    "    batch_size=batch_size,\n",
    "    subset=\"training\",\n",
    "   )\n",
    "\n",
    "validation_ds = datagen.flow_from_directory(\n",
    "    directory=data_dir_train,\n",
    "    target_size=target_size,\n",
    "    class_mode ='categorical',\n",
    "    batch_size=batch_size,\n",
    "    subset=\"validation\",\n",
    "    )\n",
    "\n",
    "test_ds = datagenTest.flow_from_directory(\n",
    "    directory=data_dir_test,\n",
    "    target_size=target_size,\n",
    "    shuffle=False,\n",
    ")"
   ]
  },
  {
   "cell_type": "code",
   "execution_count": 60,
   "id": "7a211352",
   "metadata": {},
   "outputs": [],
   "source": [
    "#model_07.h5\n",
    "model = Sequential([ \n",
    "    keras.Input(shape=input_shape),\n",
    "    layers.Conv2D(64, kernel_size=(3, 3), activation=\"relu\", padding = 'same'),\n",
    "    layers.Conv2D(32, kernel_size=(3, 3), activation=\"relu\", padding = 'same'),\n",
    "    layers.Conv2D(32, kernel_size=(3, 3), activation=\"relu\", padding = 'same'),\n",
    "    layers.MaxPooling2D(pool_size=(3, 3)),\n",
    "    layers.Dropout(0.2),\n",
    "    layers.Conv2D(32, kernel_size=(3, 3), activation=\"relu\", padding = 'same'),\n",
    "    layers.Conv2D(64, kernel_size=(3, 3), activation=\"relu\", padding = 'same'),\n",
    "    layers.Conv2D(64, kernel_size=(3, 3), activation=\"relu\", padding = 'same'),\n",
    "    layers.MaxPooling2D(pool_size=(3, 3)),\n",
    "    layers.Dropout(0.2),\n",
    "    layers.Conv2D(128, kernel_size=(3, 3), activation=\"relu\", padding = 'same'),\n",
    "    layers.Conv2D(256, kernel_size=(3, 3), activation=\"relu\", padding = 'same'),\n",
    "    layers.MaxPooling2D(pool_size=(3, 3)),\n",
    "    layers.BatchNormalization(),\n",
    "    layers.Dropout(0.5),\n",
    "    layers.Flatten(),\n",
    "    layers.Dense(512, activation=\"relu\"),\n",
    "    layers.Dense(num_classes, activation=\"softmax\"),\n",
    "])"
   ]
  },
  {
   "cell_type": "code",
   "execution_count": 56,
   "id": "fcebdff7",
   "metadata": {},
   "outputs": [],
   "source": [
    "#model_06.h5\n",
    "model = Sequential([ \n",
    "    keras.Input(shape=input_shape),\n",
    "    layers.Conv2D(64, kernel_size=(3, 3), activation=\"relu\", padding = 'same'),\n",
    "    layers.Conv2D(32, kernel_size=(3, 3), activation=\"relu\", padding = 'same'),\n",
    "    layers.Conv2D(32, kernel_size=(3, 3), activation=\"relu\", padding = 'same'),\n",
    "    layers.MaxPooling2D(pool_size=(3, 3)),\n",
    "    layers.Dropout(0.2),\n",
    "    layers.Conv2D(32, kernel_size=(3, 3), activation=\"relu\", padding = 'same'),\n",
    "    layers.Conv2D(64, kernel_size=(3, 3), activation=\"relu\", padding = 'same'),\n",
    "    layers.MaxPooling2D(pool_size=(3, 3)),\n",
    "    layers.Dropout(0.2),\n",
    "    layers.Conv2D(128, kernel_size=(3, 3), activation=\"relu\", padding = 'same'),\n",
    "    layers.Conv2D(256, kernel_size=(3, 3), activation=\"relu\", padding = 'same'),\n",
    "    layers.MaxPooling2D(pool_size=(3, 3)),\n",
    "    layers.BatchNormalization(),\n",
    "    layers.Dropout(0.5),\n",
    "    layers.Flatten(),\n",
    "    layers.Dense(512, activation=\"relu\"),\n",
    "    layers.Dense(num_classes, activation=\"softmax\"),\n",
    "])"
   ]
  },
  {
   "cell_type": "code",
   "execution_count": 53,
   "id": "3474d1d2",
   "metadata": {},
   "outputs": [],
   "source": [
    "#model_05.h5\n",
    "model = Sequential([ \n",
    "    keras.Input(shape=input_shape),\n",
    "    layers.Conv2D(32, kernel_size=(3, 3), activation=\"relu\", padding = 'same'),\n",
    "    layers.MaxPooling2D(pool_size=(2,2)),\n",
    "    layers.Dropout(0.5),\n",
    "    layers.Conv2D(64, kernel_size=(3, 3), activation=\"relu\", padding = 'same'),\n",
    "    layers.MaxPooling2D(pool_size=(2,2)),\n",
    "    layers.Dropout(0.5),\n",
    "    layers.Conv2D(64, kernel_size=(3, 3), activation=\"relu\", padding = 'same'),\n",
    "    layers.MaxPooling2D(pool_size=(2,2)),\n",
    "    layers.Dropout(0.5),\n",
    "    layers.Flatten(),\n",
    "    layers.Dense(128, activation=\"relu\"),\n",
    "    layers.Dense(num_classes, activation=\"softmax\"),\n",
    "])"
   ]
  },
  {
   "cell_type": "code",
   "execution_count": 50,
   "id": "018e4cc5",
   "metadata": {},
   "outputs": [],
   "source": [
    "#model_04.h5\n",
    "model = Sequential([ \n",
    "    keras.Input(shape=input_shape),\n",
    "    layers.Conv2D(64, kernel_size=(3, 3), activation=\"relu\", padding = 'same'),\n",
    "    layers.Conv2D(32, kernel_size=(3, 3), activation=\"relu\", padding = 'same'),\n",
    "    layers.MaxPooling2D(pool_size=(3, 3)),\n",
    "    layers.Dropout(0.5),\n",
    "    layers.Conv2D(64, kernel_size=(3, 3), activation=\"relu\", padding = 'same'),\n",
    "    layers.MaxPooling2D(pool_size=(3, 3)),\n",
    "    layers.Dropout(0.5),\n",
    "    layers.Conv2D(128, kernel_size=(3, 3), activation=\"relu\", padding = 'same'),\n",
    "    layers.MaxPooling2D(pool_size=(3, 3)),\n",
    "    layers.Dropout(0.5),\n",
    "    layers.Flatten(),\n",
    "    layers.Dense(512, activation=\"relu\"),\n",
    "    layers.Dense(num_classes, activation=\"softmax\"),\n",
    "])"
   ]
  },
  {
   "cell_type": "code",
   "execution_count": 47,
   "id": "147b7c71",
   "metadata": {},
   "outputs": [],
   "source": [
    "#model_03.h5\n",
    "model = Sequential([ \n",
    "    keras.Input(shape=input_shape),\n",
    "    layers.Conv2D(64, kernel_size=(3, 3), activation=\"relu\", padding = 'same'),\n",
    "    layers.Conv2D(32, kernel_size=(3, 3), activation=\"relu\", padding = 'same'),\n",
    "    layers.MaxPooling2D(pool_size=(2, 2)),\n",
    "    layers.Dropout(0.2),\n",
    "    layers.Conv2D(32, kernel_size=(3, 3), activation=\"relu\", padding = 'same'),\n",
    "    layers.Conv2D(64, kernel_size=(3, 3), activation=\"relu\", padding = 'same'),\n",
    "    layers.MaxPooling2D(pool_size=(2, 2)),\n",
    "    layers.Dropout(0.2),\n",
    "    layers.Conv2D(128, kernel_size=(3, 3), activation=\"relu\", padding = 'same'),\n",
    "    layers.Conv2D(256, kernel_size=(3, 3), activation=\"relu\", padding = 'same'),\n",
    "    layers.MaxPooling2D(pool_size=(2, 2)),\n",
    "    layers.BatchNormalization(),\n",
    "    layers.Dropout(0.5),\n",
    "    layers.Flatten(),\n",
    "    layers.Dense(512, activation=\"relu\"),\n",
    "    layers.Dense(num_classes, activation=\"softmax\"),\n",
    "])"
   ]
  },
  {
   "cell_type": "code",
   "execution_count": 43,
   "id": "3cb901ff",
   "metadata": {},
   "outputs": [],
   "source": [
    "#model_02.h5\n",
    "model = Sequential([ \n",
    "    keras.Input(shape=input_shape),\n",
    "    layers.Conv2D(64, kernel_size=(3, 3), activation=\"relu\", padding = 'same'),\n",
    "    layers.Conv2D(32, kernel_size=(3, 3), activation=\"relu\", padding = 'same'),\n",
    "    layers.MaxPooling2D(pool_size=(3, 3)),\n",
    "    layers.Dropout(0.5),\n",
    "    layers.Conv2D(32, kernel_size=(3, 3), activation=\"relu\", padding = 'same'),\n",
    "    layers.Conv2D(64, kernel_size=(3, 3), activation=\"relu\", padding = 'same'),\n",
    "    layers.MaxPooling2D(pool_size=(3, 3)),\n",
    "    layers.Dropout(0.2),\n",
    "    layers.Conv2D(128, kernel_size=(3, 3), activation=\"relu\", padding = 'same'),\n",
    "    layers.Conv2D(128, kernel_size=(3, 3), activation=\"relu\", padding = 'same'),\n",
    "    layers.Conv2D(256, kernel_size=(3, 3), activation=\"relu\", padding = 'same'),\n",
    "    layers.MaxPooling2D(pool_size=(3, 3)),\n",
    "    layers.BatchNormalization(),\n",
    "    layers.Dropout(0.5),\n",
    "    layers.Flatten(),\n",
    "    layers.Dense(1024, activation=\"relu\"),\n",
    "    layers.Dense(num_classes, activation=\"softmax\"),\n",
    "])"
   ]
  },
  {
   "cell_type": "code",
   "execution_count": 8,
   "id": "f3a07c54",
   "metadata": {},
   "outputs": [],
   "source": [
    "#model_01.h5\n",
    "model = Sequential([ \n",
    "    keras.Input(shape=input_shape),\n",
    "    layers.Conv2D(64, kernel_size=(3, 3), activation=\"relu\", padding = 'same'),\n",
    "    layers.Conv2D(32, kernel_size=(3, 3), activation=\"relu\", padding = 'same'),\n",
    "    layers.MaxPooling2D(pool_size=(3, 3)),\n",
    "    layers.Dropout(0.2),\n",
    "    layers.Conv2D(32, kernel_size=(3, 3), activation=\"relu\", padding = 'same'),\n",
    "    layers.Conv2D(64, kernel_size=(3, 3), activation=\"relu\", padding = 'same'),\n",
    "    layers.MaxPooling2D(pool_size=(3, 3)),\n",
    "    layers.Dropout(0.2),\n",
    "    layers.Conv2D(128, kernel_size=(3, 3), activation=\"relu\", padding = 'same'),\n",
    "    layers.Conv2D(256, kernel_size=(3, 3), activation=\"relu\", padding = 'same'),\n",
    "    layers.MaxPooling2D(pool_size=(3, 3)),\n",
    "    layers.BatchNormalization(),\n",
    "    layers.Dropout(0.5),\n",
    "    layers.Flatten(),\n",
    "    layers.Dense(512, activation=\"relu\"),\n",
    "    layers.Dense(num_classes, activation=\"softmax\"),\n",
    "])"
   ]
  },
  {
   "cell_type": "code",
   "execution_count": 9,
   "id": "62f768cb",
   "metadata": {},
   "outputs": [],
   "source": [
    "model.compile(loss='categorical_crossentropy', optimizer=\"Adam\", metrics=['accuracy'])"
   ]
  },
  {
   "cell_type": "code",
   "execution_count": 10,
   "id": "2a23fa29",
   "metadata": {},
   "outputs": [
    {
     "name": "stdout",
     "output_type": "stream",
     "text": [
      "504/504 [==============================] - 298s 579ms/step - loss: 0.5057 - accuracy: 0.8406\n"
     ]
    },
    {
     "data": {
      "text/plain": [
       "[0.5056602954864502, 0.8405886888504028]"
      ]
     },
     "execution_count": 10,
     "metadata": {},
     "output_type": "execute_result"
    }
   ],
   "source": [
    "#Model 01\n",
    "#Veličina slike: 64x64\n",
    "#BatchSize: 32\n",
    "model.load_weights('TrainedModels/model_01_64x64_b32.h5')\n",
    "model.evaluate(test_ds)"
   ]
  },
  {
   "cell_type": "code",
   "execution_count": 23,
   "id": "718b4754",
   "metadata": {},
   "outputs": [
    {
     "name": "stdout",
     "output_type": "stream",
     "text": [
      "504/504 [==============================] - 37s 73ms/step - loss: 0.5485 - accuracy: 0.8416\n"
     ]
    },
    {
     "data": {
      "text/plain": [
       "[0.5485415458679199, 0.8416444063186646]"
      ]
     },
     "execution_count": 23,
     "metadata": {},
     "output_type": "execute_result"
    }
   ],
   "source": [
    "#Model 01\n",
    "#Veličina slike: 64x64\n",
    "#BatchSize: 64\n",
    "model.load_weights('TrainedModels/model_01_64x64_b64.h5')\n",
    "model.evaluate(test_ds)"
   ]
  },
  {
   "cell_type": "code",
   "execution_count": 24,
   "id": "c95725d7",
   "metadata": {},
   "outputs": [
    {
     "name": "stdout",
     "output_type": "stream",
     "text": [
      "504/504 [==============================] - 37s 73ms/step - loss: 0.6829 - accuracy: 0.7854\n"
     ]
    },
    {
     "data": {
      "text/plain": [
       "[0.6828820705413818, 0.7853816151618958]"
      ]
     },
     "execution_count": 24,
     "metadata": {},
     "output_type": "execute_result"
    }
   ],
   "source": [
    "#Model 01\n",
    "#Veličina slike: 64x64\n",
    "#BatchSize: 20\n",
    "model.load_weights('TrainedModels/model_01_64x64_b20.h5')\n",
    "model.evaluate(test_ds)"
   ]
  },
  {
   "cell_type": "code",
   "execution_count": 31,
   "id": "a8a8e36e",
   "metadata": {},
   "outputs": [
    {
     "name": "stdout",
     "output_type": "stream",
     "text": [
      "504/504 [==============================] - 74s 144ms/step - loss: 0.6906 - accuracy: 0.8225\n"
     ]
    },
    {
     "data": {
      "text/plain": [
       "[0.69064861536026, 0.8225175142288208]"
      ]
     },
     "execution_count": 31,
     "metadata": {},
     "output_type": "execute_result"
    }
   ],
   "source": [
    "#Model 01\n",
    "#Veličina slike: 126x126\n",
    "#BatchSize: 20\n",
    "model.load_weights('TrainedModels/model_01_126x126_b32.h5')\n",
    "model.evaluate(test_ds)"
   ]
  },
  {
   "cell_type": "code",
   "execution_count": 46,
   "id": "b48d0e91",
   "metadata": {},
   "outputs": [
    {
     "name": "stdout",
     "output_type": "stream",
     "text": [
      "504/504 [==============================] - 38s 74ms/step - loss: 0.9360 - accuracy: 0.7318\n"
     ]
    },
    {
     "data": {
      "text/plain": [
       "[0.9359568953514099, 0.7317891120910645]"
      ]
     },
     "execution_count": 46,
     "metadata": {},
     "output_type": "execute_result"
    }
   ],
   "source": [
    "#Model 02\n",
    "#Veličina slike: 64x64\n",
    "#BatchSize: 64\n",
    "model.load_weights('TrainedModels/model_02_64x64_b64.h5')\n",
    "model.evaluate(test_ds)"
   ]
  },
  {
   "cell_type": "code",
   "execution_count": 49,
   "id": "bf1e2a1d",
   "metadata": {},
   "outputs": [
    {
     "name": "stdout",
     "output_type": "stream",
     "text": [
      "504/504 [==============================] - 39s 76ms/step - loss: 0.7335 - accuracy: 0.8023\n"
     ]
    },
    {
     "data": {
      "text/plain": [
       "[0.7335481643676758, 0.8023349642753601]"
      ]
     },
     "execution_count": 49,
     "metadata": {},
     "output_type": "execute_result"
    }
   ],
   "source": [
    "#Model 03\n",
    "#Veličina slike: 64x64\n",
    "#BatchSize: 64\n",
    "model.load_weights('TrainedModels/model_03_64x64_b64.h5')\n",
    "model.evaluate(test_ds)"
   ]
  },
  {
   "cell_type": "code",
   "execution_count": 52,
   "id": "fea03b09",
   "metadata": {},
   "outputs": [
    {
     "name": "stdout",
     "output_type": "stream",
     "text": [
      "504/504 [==============================] - 39s 76ms/step - loss: 1.7619 - accuracy: 0.4323\n"
     ]
    },
    {
     "data": {
      "text/plain": [
       "[1.7618759870529175, 0.43227970600128174]"
      ]
     },
     "execution_count": 52,
     "metadata": {},
     "output_type": "execute_result"
    }
   ],
   "source": [
    "#Model 04\n",
    "#Veličina slike: 64x64\n",
    "#BatchSize: 64\n",
    "model.load_weights('TrainedModels/model_04_64x64_b64.h5')\n",
    "model.evaluate(test_ds)"
   ]
  },
  {
   "cell_type": "code",
   "execution_count": 55,
   "id": "bc327726",
   "metadata": {},
   "outputs": [
    {
     "name": "stdout",
     "output_type": "stream",
     "text": [
      "504/504 [==============================] - 39s 76ms/step - loss: 1.4451 - accuracy: 0.5801\n"
     ]
    },
    {
     "data": {
      "text/plain": [
       "[1.4450706243515015, 0.5800782442092896]"
      ]
     },
     "execution_count": 55,
     "metadata": {},
     "output_type": "execute_result"
    }
   ],
   "source": [
    "#Model 05\n",
    "#Veličina slike: 64x64\n",
    "#BatchSize: 64\n",
    "model.load_weights('TrainedModels/model_05_64x64_b64.h5')\n",
    "model.evaluate(test_ds)"
   ]
  },
  {
   "cell_type": "code",
   "execution_count": 58,
   "id": "a70fc78e",
   "metadata": {},
   "outputs": [
    {
     "name": "stdout",
     "output_type": "stream",
     "text": [
      "504/504 [==============================] - 39s 77ms/step - loss: 0.4867 - accuracy: 0.8403\n"
     ]
    },
    {
     "data": {
      "text/plain": [
       "[0.4866877794265747, 0.8403403162956238]"
      ]
     },
     "execution_count": 58,
     "metadata": {},
     "output_type": "execute_result"
    }
   ],
   "source": [
    "#Model 06\n",
    "#Veličina slike: 64x64\n",
    "#BatchSize: 32\n",
    "model.load_weights('TrainedModels/model_06_64x64_b32.h5')\n",
    "model.evaluate(test_ds)"
   ]
  },
  {
   "cell_type": "code",
   "execution_count": 59,
   "id": "0b957659",
   "metadata": {},
   "outputs": [
    {
     "name": "stdout",
     "output_type": "stream",
     "text": [
      "504/504 [==============================] - 38s 76ms/step - loss: 0.5595 - accuracy: 0.8238\n"
     ]
    },
    {
     "data": {
      "text/plain": [
       "[0.559546172618866, 0.8238216638565063]"
      ]
     },
     "execution_count": 59,
     "metadata": {},
     "output_type": "execute_result"
    }
   ],
   "source": [
    "#Model 06\n",
    "#Veličina slike: 64x64\n",
    "#BatchSize: 20\n",
    "model.load_weights('TrainedModels/model_06_64x64_b20.h5')\n",
    "model.evaluate(test_ds)"
   ]
  },
  {
   "cell_type": "code",
   "execution_count": 62,
   "id": "a34a7e31",
   "metadata": {},
   "outputs": [
    {
     "name": "stdout",
     "output_type": "stream",
     "text": [
      "504/504 [==============================] - 40s 78ms/step - loss: 0.5911 - accuracy: 0.8071\n"
     ]
    },
    {
     "data": {
      "text/plain": [
       "[0.5911140441894531, 0.8070545792579651]"
      ]
     },
     "execution_count": 62,
     "metadata": {},
     "output_type": "execute_result"
    }
   ],
   "source": [
    "#Model 07\n",
    "#Veličina slike: 64x64\n",
    "#BatchSize: 32\n",
    "model.load_weights('TrainedModels/model_07_64x64_b32.h5')\n",
    "model.evaluate(test_ds)"
   ]
  },
  {
   "cell_type": "code",
   "execution_count": null,
   "id": "e6513ede",
   "metadata": {},
   "outputs": [],
   "source": []
  }
 ],
 "metadata": {
  "kernelspec": {
   "display_name": "Python 3 (ipykernel)",
   "language": "python",
   "name": "python3"
  },
  "language_info": {
   "codemirror_mode": {
    "name": "ipython",
    "version": 3
   },
   "file_extension": ".py",
   "mimetype": "text/x-python",
   "name": "python",
   "nbconvert_exporter": "python",
   "pygments_lexer": "ipython3",
   "version": "3.9.7"
  }
 },
 "nbformat": 4,
 "nbformat_minor": 5
}
