{
 "cells": [
  {
   "cell_type": "code",
   "execution_count": 1,
   "id": "01f95b5d",
   "metadata": {},
   "outputs": [],
   "source": [
    "import numpy as np\n",
    "import cv2\n",
    "from PIL import Image\n",
    "\n",
    "import mediapipe as mp\n",
    "import tensorflow as tf\n",
    "from tensorflow import keras\n",
    "from tensorflow.keras import layers\n",
    "from tensorflow.keras.layers import Dense\n",
    "from tensorflow.keras.models import Sequential"
   ]
  },
  {
   "cell_type": "code",
   "execution_count": 2,
   "id": "ba4a755c",
   "metadata": {},
   "outputs": [],
   "source": [
    "input_shape = (64, 64, 3)\n",
    "target_size= (64,64)\n",
    "num_classes = 36\n",
    "classes = ['0', '1', '2', '3', '4', '5', '6', '7', '8', '9', 'a', 'b', 'c', 'd', \n",
    "           'e', 'f', 'g', 'h', 'i', 'j', 'k', 'l','m', 'n', 'o', 'p', 'q', 'r', \n",
    "           's', 't', 'u', 'v', 'w', 'x', 'y', 'z']\n",
    "\n",
    "mp_drawing = mp.solutions.drawing_utils\n",
    "mp_hands = mp.solutions.hands"
   ]
  },
  {
   "cell_type": "code",
   "execution_count": 3,
   "id": "5d1c464f",
   "metadata": {},
   "outputs": [],
   "source": [
    "#model_01.h5\n",
    "model = Sequential([ \n",
    "    keras.Input(shape=input_shape),\n",
    "    layers.Conv2D(64, kernel_size=(3, 3), activation=\"relu\", padding = 'same'),\n",
    "    layers.Conv2D(32, kernel_size=(3, 3), activation=\"relu\", padding = 'same'),\n",
    "    layers.MaxPooling2D(pool_size=(3, 3)),\n",
    "    layers.Dropout(0.2),\n",
    "    layers.Conv2D(32, kernel_size=(3, 3), activation=\"relu\", padding = 'same'),\n",
    "    layers.Conv2D(64, kernel_size=(3, 3), activation=\"relu\", padding = 'same'),\n",
    "    layers.MaxPooling2D(pool_size=(3, 3)),\n",
    "    layers.Dropout(0.2),\n",
    "    layers.Conv2D(128, kernel_size=(3, 3), activation=\"relu\", padding = 'same'),\n",
    "    layers.Conv2D(256, kernel_size=(3, 3), activation=\"relu\", padding = 'same'),\n",
    "    layers.MaxPooling2D(pool_size=(3, 3)),\n",
    "    layers.BatchNormalization(),\n",
    "    layers.Dropout(0.5),\n",
    "    layers.Flatten(),\n",
    "    layers.Dense(512, activation=\"relu\"),\n",
    "    layers.Dense(num_classes, activation=\"softmax\"),\n",
    "])"
   ]
  },
  {
   "cell_type": "code",
   "execution_count": 4,
   "id": "327e95e0",
   "metadata": {},
   "outputs": [],
   "source": [
    "model.compile(loss='categorical_crossentropy', optimizer='Adam', metrics=['accuracy'])\n",
    "model.load_weights('TrainedModels/model_01_64x64_b32.h5')"
   ]
  },
  {
   "cell_type": "code",
   "execution_count": 5,
   "id": "b054e5d3",
   "metadata": {},
   "outputs": [],
   "source": [
    "def predict_image_Cam(image, model):\n",
    "    img_ = Image.fromarray(image)\n",
    "    img_ = img_.resize(target_size)\n",
    "    img_array = np.array(img_, dtype = float)\n",
    "    img_processed = np.expand_dims(img_array, axis=0)\n",
    "    img_processed /= 255\n",
    "    prediction = model.predict(img_processed)\n",
    "    return np.argmax(prediction)"
   ]
  },
  {
   "cell_type": "code",
   "execution_count": 6,
   "id": "d0af1b69",
   "metadata": {},
   "outputs": [],
   "source": [
    "def drawHandKeyPoints(handsValue, results, image):\n",
    "    if results.multi_hand_landmarks:\n",
    "        for num, hand in enumerate(results.multi_hand_landmarks):\n",
    "            mp_drawing.draw_landmarks(image, hand, mp_hands.HAND_CONNECTIONS)"
   ]
  },
  {
   "cell_type": "code",
   "execution_count": 7,
   "id": "ae48d7a8",
   "metadata": {},
   "outputs": [],
   "source": [
    "def handPrediction(image, handsValue):\n",
    "    image = cv2.cvtColor(frame, cv2.COLOR_BGR2RGB)\n",
    "    results = handsValue.process(image)\n",
    "    image = cv2.cvtColor(frame, cv2.COLOR_RGB2BGR)\n",
    "    image = cv2.blur(image, (3,3))\n",
    "    drawHandKeyPoints(handsValue, results, image)\n",
    "    return image"
   ]
  },
  {
   "cell_type": "code",
   "execution_count": 8,
   "id": "148192b3",
   "metadata": {
    "scrolled": false
   },
   "outputs": [],
   "source": [
    "cap = cv2.VideoCapture(0)\n",
    "font = cv2.FONT_HERSHEY_SIMPLEX\n",
    "\n",
    "with mp_hands.Hands(min_detection_confidence=0.8, min_tracking_confidence=0.5) as hands:\n",
    "    while True: \n",
    "        ret, frame = cap.read()\n",
    "        \n",
    "        image = handPrediction(frame, hands)\n",
    "        index = predict_image_Cam(image, model)\n",
    "        cv2.putText(image,'Prediction: ' + classes[index], (50, 50), font,\n",
    "                    1, (0, 255, 100),  2, cv2.LINE_4)\n",
    "\n",
    "        cv2.imshow('Sign Language Detection', image)\n",
    "        if cv2.waitKey(1) & 0xFF == ord('q'):\n",
    "            break\n",
    "cap.release()\n",
    "cv2.destroyAllWindows()"
   ]
  },
  {
   "cell_type": "code",
   "execution_count": null,
   "id": "c8fa7f91",
   "metadata": {},
   "outputs": [],
   "source": []
  }
 ],
 "metadata": {
  "kernelspec": {
   "display_name": "Python 3 (ipykernel)",
   "language": "python",
   "name": "python3"
  },
  "language_info": {
   "codemirror_mode": {
    "name": "ipython",
    "version": 3
   },
   "file_extension": ".py",
   "mimetype": "text/x-python",
   "name": "python",
   "nbconvert_exporter": "python",
   "pygments_lexer": "ipython3",
   "version": "3.9.7"
  }
 },
 "nbformat": 4,
 "nbformat_minor": 5
}
